{
 "cells": [
  {
   "cell_type": "code",
   "execution_count": 1,
   "metadata": {
    "collapsed": true
   },
   "outputs": [],
   "source": [
    "import numpy as np\n",
    "import pandas as pd"
   ]
  },
  {
   "cell_type": "code",
   "execution_count": 2,
   "metadata": {
    "collapsed": true
   },
   "outputs": [],
   "source": [
    "import cv2"
   ]
  },
  {
   "cell_type": "code",
   "execution_count": 3,
   "metadata": {
    "collapsed": false
   },
   "outputs": [
    {
     "name": "stdout",
     "output_type": "stream",
     "text": [
      "3.1.0\n"
     ]
    }
   ],
   "source": [
    "print cv2.__version__"
   ]
  },
  {
   "cell_type": "code",
   "execution_count": 7,
   "metadata": {
    "collapsed": false
   },
   "outputs": [],
   "source": [
    "df = pd.read_csv(\"train.csv\")"
   ]
  },
  {
   "cell_type": "code",
   "execution_count": 5,
   "metadata": {
    "collapsed": false
   },
   "outputs": [
    {
     "data": {
      "text/plain": [
       "(42000, 785)"
      ]
     },
     "execution_count": 5,
     "metadata": {},
     "output_type": "execute_result"
    }
   ],
   "source": [
    "df.shape"
   ]
  },
  {
   "cell_type": "code",
   "execution_count": 6,
   "metadata": {
    "collapsed": true
   },
   "outputs": [
    {
     "data": {
      "text/plain": [
       "<bound method DataFrame.info of        label  pixel0  pixel1  pixel2  pixel3  pixel4  pixel5  pixel6  pixel7  \\\n",
       "0          1       0       0       0       0       0       0       0       0   \n",
       "1          0       0       0       0       0       0       0       0       0   \n",
       "2          1       0       0       0       0       0       0       0       0   \n",
       "3          4       0       0       0       0       0       0       0       0   \n",
       "4          0       0       0       0       0       0       0       0       0   \n",
       "5          0       0       0       0       0       0       0       0       0   \n",
       "6          7       0       0       0       0       0       0       0       0   \n",
       "7          3       0       0       0       0       0       0       0       0   \n",
       "8          5       0       0       0       0       0       0       0       0   \n",
       "9          3       0       0       0       0       0       0       0       0   \n",
       "10         8       0       0       0       0       0       0       0       0   \n",
       "11         9       0       0       0       0       0       0       0       0   \n",
       "12         1       0       0       0       0       0       0       0       0   \n",
       "13         3       0       0       0       0       0       0       0       0   \n",
       "14         3       0       0       0       0       0       0       0       0   \n",
       "15         1       0       0       0       0       0       0       0       0   \n",
       "16         2       0       0       0       0       0       0       0       0   \n",
       "17         0       0       0       0       0       0       0       0       0   \n",
       "18         7       0       0       0       0       0       0       0       0   \n",
       "19         5       0       0       0       0       0       0       0       0   \n",
       "20         8       0       0       0       0       0       0       0       0   \n",
       "21         6       0       0       0       0       0       0       0       0   \n",
       "22         2       0       0       0       0       0       0       0       0   \n",
       "23         0       0       0       0       0       0       0       0       0   \n",
       "24         2       0       0       0       0       0       0       0       0   \n",
       "25         3       0       0       0       0       0       0       0       0   \n",
       "26         6       0       0       0       0       0       0       0       0   \n",
       "27         9       0       0       0       0       0       0       0       0   \n",
       "28         9       0       0       0       0       0       0       0       0   \n",
       "29         7       0       0       0       0       0       0       0       0   \n",
       "...      ...     ...     ...     ...     ...     ...     ...     ...     ...   \n",
       "41970      2       0       0       0       0       0       0       0       0   \n",
       "41971      3       0       0       0       0       0       0       0       0   \n",
       "41972      4       0       0       0       0       0       0       0       0   \n",
       "41973      4       0       0       0       0       0       0       0       0   \n",
       "41974      3       0       0       0       0       0       0       0       0   \n",
       "41975      9       0       0       0       0       0       0       0       0   \n",
       "41976      2       0       0       0       0       0       0       0       0   \n",
       "41977      4       0       0       0       0       0       0       0       0   \n",
       "41978      4       0       0       0       0       0       0       0       0   \n",
       "41979      4       0       0       0       0       0       0       0       0   \n",
       "41980      7       0       0       0       0       0       0       0       0   \n",
       "41981      2       0       0       0       0       0       0       0       0   \n",
       "41982      8       0       0       0       0       0       0       0       0   \n",
       "41983      7       0       0       0       0       0       0       0       0   \n",
       "41984      3       0       0       0       0       0       0       0       0   \n",
       "41985      3       0       0       0       0       0       0       0       0   \n",
       "41986      0       0       0       0       0       0       0       0       0   \n",
       "41987      5       0       0       0       0       0       0       0       0   \n",
       "41988      0       0       0       0       0       0       0       0       0   \n",
       "41989      5       0       0       0       0       0       0       0       0   \n",
       "41990      3       0       0       0       0       0       0       0       0   \n",
       "41991      1       0       0       0       0       0       0       0       0   \n",
       "41992      9       0       0       0       0       0       0       0       0   \n",
       "41993      6       0       0       0       0       0       0       0       0   \n",
       "41994      4       0       0       0       0       0       0       0       0   \n",
       "41995      0       0       0       0       0       0       0       0       0   \n",
       "41996      1       0       0       0       0       0       0       0       0   \n",
       "41997      7       0       0       0       0       0       0       0       0   \n",
       "41998      6       0       0       0       0       0       0       0       0   \n",
       "41999      9       0       0       0       0       0       0       0       0   \n",
       "\n",
       "       pixel8    ...     pixel774  pixel775  pixel776  pixel777  pixel778  \\\n",
       "0           0    ...            0         0         0         0         0   \n",
       "1           0    ...            0         0         0         0         0   \n",
       "2           0    ...            0         0         0         0         0   \n",
       "3           0    ...            0         0         0         0         0   \n",
       "4           0    ...            0         0         0         0         0   \n",
       "5           0    ...            0         0         0         0         0   \n",
       "6           0    ...            0         0         0         0         0   \n",
       "7           0    ...            0         0         0         0         0   \n",
       "8           0    ...            0         0         0         0         0   \n",
       "9           0    ...            0         0         0         0         0   \n",
       "10          0    ...            0         0         0         0         0   \n",
       "11          0    ...            0         0         0         0         0   \n",
       "12          0    ...            0         0         0         0         0   \n",
       "13          0    ...            0         0         0         0         0   \n",
       "14          0    ...            0         0         0         0         0   \n",
       "15          0    ...            0         0         0         0         0   \n",
       "16          0    ...            0         0         0         0         0   \n",
       "17          0    ...            0         0         0         0         0   \n",
       "18          0    ...            0         0         0         0         0   \n",
       "19          0    ...            0         0         0         0         0   \n",
       "20          0    ...            0         0         0         0         0   \n",
       "21          0    ...            0         0         0         0         0   \n",
       "22          0    ...            0         0         0         0         0   \n",
       "23          0    ...            0         0         0         0         0   \n",
       "24          0    ...            0         0         0         0         0   \n",
       "25          0    ...            0         0         0         0         0   \n",
       "26          0    ...            0         0         0         0         0   \n",
       "27          0    ...            0         0         0         0         0   \n",
       "28          0    ...            0         0         0         0         0   \n",
       "29          0    ...            0         0         0         0         0   \n",
       "...       ...    ...          ...       ...       ...       ...       ...   \n",
       "41970       0    ...            0         0         0         0         0   \n",
       "41971       0    ...            0         0         0         0         0   \n",
       "41972       0    ...            0         0         0         0         0   \n",
       "41973       0    ...            0         0         0         0         0   \n",
       "41974       0    ...            0         0         0         0         0   \n",
       "41975       0    ...            0         0         0         0         0   \n",
       "41976       0    ...            0         0         0         0         0   \n",
       "41977       0    ...            0         0         0         0         0   \n",
       "41978       0    ...            0         0         0         0         0   \n",
       "41979       0    ...            0         0         0         0         0   \n",
       "41980       0    ...           27       253       110         0         0   \n",
       "41981       0    ...            0         0         0         0         0   \n",
       "41982       0    ...            0         0         0         0         0   \n",
       "41983       0    ...            0         0         0         0         0   \n",
       "41984       0    ...            0         0         0         0         0   \n",
       "41985       0    ...            0         0         0         0         0   \n",
       "41986       0    ...            0         0         0         0         0   \n",
       "41987       0    ...            0         0         0         0         0   \n",
       "41988       0    ...            0         0         0         0         0   \n",
       "41989       0    ...            0         0         0         0         0   \n",
       "41990       0    ...            0         0         0         0         0   \n",
       "41991       0    ...            0         0         0         0         0   \n",
       "41992       0    ...            0         0         0         0         0   \n",
       "41993       0    ...            0         0         0         0         0   \n",
       "41994       0    ...            0         0         0         0         0   \n",
       "41995       0    ...            0         0         0         0         0   \n",
       "41996       0    ...            0         0         0         0         0   \n",
       "41997       0    ...            0         0         0         0         0   \n",
       "41998       0    ...            0         0         0         0         0   \n",
       "41999       0    ...            0         0         0         0         0   \n",
       "\n",
       "       pixel779  pixel780  pixel781  pixel782  pixel783  \n",
       "0             0         0         0         0         0  \n",
       "1             0         0         0         0         0  \n",
       "2             0         0         0         0         0  \n",
       "3             0         0         0         0         0  \n",
       "4             0         0         0         0         0  \n",
       "5             0         0         0         0         0  \n",
       "6             0         0         0         0         0  \n",
       "7             0         0         0         0         0  \n",
       "8             0         0         0         0         0  \n",
       "9             0         0         0         0         0  \n",
       "10            0         0         0         0         0  \n",
       "11            0         0         0         0         0  \n",
       "12            0         0         0         0         0  \n",
       "13            0         0         0         0         0  \n",
       "14            0         0         0         0         0  \n",
       "15            0         0         0         0         0  \n",
       "16            0         0         0         0         0  \n",
       "17            0         0         0         0         0  \n",
       "18            0         0         0         0         0  \n",
       "19            0         0         0         0         0  \n",
       "20            0         0         0         0         0  \n",
       "21            0         0         0         0         0  \n",
       "22            0         0         0         0         0  \n",
       "23            0         0         0         0         0  \n",
       "24            0         0         0         0         0  \n",
       "25            0         0         0         0         0  \n",
       "26            0         0         0         0         0  \n",
       "27            0         0         0         0         0  \n",
       "28            0         0         0         0         0  \n",
       "29            0         0         0         0         0  \n",
       "...         ...       ...       ...       ...       ...  \n",
       "41970         0         0         0         0         0  \n",
       "41971         0         0         0         0         0  \n",
       "41972         0         0         0         0         0  \n",
       "41973         0         0         0         0         0  \n",
       "41974         0         0         0         0         0  \n",
       "41975         0         0         0         0         0  \n",
       "41976         0         0         0         0         0  \n",
       "41977         0         0         0         0         0  \n",
       "41978         0         0         0         0         0  \n",
       "41979         0         0         0         0         0  \n",
       "41980         0         0         0         0         0  \n",
       "41981         0         0         0         0         0  \n",
       "41982         0         0         0         0         0  \n",
       "41983         0         0         0         0         0  \n",
       "41984         0         0         0         0         0  \n",
       "41985         0         0         0         0         0  \n",
       "41986         0         0         0         0         0  \n",
       "41987         0         0         0         0         0  \n",
       "41988         0         0         0         0         0  \n",
       "41989         0         0         0         0         0  \n",
       "41990         0         0         0         0         0  \n",
       "41991         0         0         0         0         0  \n",
       "41992         0         0         0         0         0  \n",
       "41993         0         0         0         0         0  \n",
       "41994         0         0         0         0         0  \n",
       "41995         0         0         0         0         0  \n",
       "41996         0         0         0         0         0  \n",
       "41997         0         0         0         0         0  \n",
       "41998         0         0         0         0         0  \n",
       "41999         0         0         0         0         0  \n",
       "\n",
       "[42000 rows x 785 columns]>"
      ]
     },
     "execution_count": 6,
     "metadata": {},
     "output_type": "execute_result"
    }
   ],
   "source": [
    "df.info"
   ]
  },
  {
   "cell_type": "code",
   "execution_count": 8,
   "metadata": {
    "collapsed": true
   },
   "outputs": [],
   "source": [
    "from matplotlib import pylab\n",
    "%matplotlib inline"
   ]
  },
  {
   "cell_type": "code",
   "execution_count": 9,
   "metadata": {
    "collapsed": true
   },
   "outputs": [],
   "source": [
    "# from sklearn.preprocessing import StandardScaler\n",
    "# scaler = StandardScaler()\n",
    "X_train = df.ix[:,1:]\n",
    "# X_train_scaled = scaler.fit_transform(X_train)"
   ]
  },
  {
   "cell_type": "code",
   "execution_count": 9,
   "metadata": {
    "collapsed": false,
    "scrolled": true
   },
   "outputs": [
    {
     "data": {
      "text/plain": [
       "<matplotlib.image.AxesImage at 0x1590a208>"
      ]
     },
     "execution_count": 9,
     "metadata": {},
     "output_type": "execute_result"
    },
    {
     "data": {
      "image/png": "[encoded data removed]",
      "text/plain": [
       "<matplotlib.figure.Figure at 0x119ce5c0>"
      ]
     },
     "metadata": {},
     "output_type": "display_data"
    }
   ],
   "source": [
    "pylab.imshow(np.reshape(X_train.ix[7,:],(28,28)), cmap='gray')"
   ]
  },
  {
   "cell_type": "code",
   "execution_count": 10,
   "metadata": {
    "collapsed": false
   },
   "outputs": [
    {
     "data": {
      "image/png": "[encoded data removed]",
      "text/plain": [
       "<matplotlib.figure.Figure at 0x158b4ba8>"
      ]
     },
     "metadata": {},
     "output_type": "display_data"
    }
   ],
   "source": [
    "a = pylab.imshow(np.reshape(X_train.ix[7,:],(28,28)), cmap='gray', vmin=127, vmax=128,interpolation='nearest')"
   ]
  },
  {
   "cell_type": "code",
   "execution_count": 12,
   "metadata": {
    "collapsed": false
   },
   "outputs": [
    {
     "data": {
      "text/plain": [
       "<matplotlib.contour.QuadContourSet at 0x133009b0>"
      ]
     },
     "execution_count": 12,
     "metadata": {},
     "output_type": "execute_result"
    },
    {
     "data": {
      "image/png": "[encoded data removed]",
      "text/plain": [
       "<matplotlib.figure.Figure at 0x16822748>"
      ]
     },
     "metadata": {},
     "output_type": "display_data"
    }
   ],
   "source": [
    "pylab.contour(np.reshape(X_train.ix[7,:],(28,28)),cmap='gray', vmin=127, vmax=128)"
   ]
  },
  {
   "cell_type": "markdown",
   "metadata": {
    "collapsed": true
   },
   "source": [
    "### OPENCV"
   ]
  },
  {
   "cell_type": "code",
   "execution_count": 10,
   "metadata": {
    "collapsed": true
   },
   "outputs": [],
   "source": [
    "im = np.reshape(X_train.ix[7,:],(28,28))"
   ]
  },
  {
   "cell_type": "code",
   "execution_count": 9,
   "metadata": {
    "collapsed": false
   },
   "outputs": [],
   "source": [
    "import matplotlib.pyplot as plt\n",
    "%matplotlib inline"
   ]
  },
  {
   "cell_type": "code",
   "execution_count": 10,
   "metadata": {
    "collapsed": false
   },
   "outputs": [
    {
     "data": {
      "text/plain": [
       "<matplotlib.image.AxesImage at 0x18b56710>"
      ]
     },
     "execution_count": 10,
     "metadata": {},
     "output_type": "execute_result"
    },
    {
     "data": {
      "image/png": "[encoded data removed]",
      "text/plain": [
       "<matplotlib.figure.Figure at 0xcbd6630>"
      ]
     },
     "metadata": {},
     "output_type": "display_data"
    }
   ],
   "source": [
    "plt.imshow(im)"
   ]
  },
  {
   "cell_type": "code",
   "execution_count": 4,
   "metadata": {
    "collapsed": true
   },
   "outputs": [],
   "source": [
    "im_test = cv2.imread('logo2.jpg')"
   ]
  },
  {
   "cell_type": "code",
   "execution_count": 12,
   "metadata": {
    "collapsed": false
   },
   "outputs": [
    {
     "data": {
      "text/plain": [
       "-1"
      ]
     },
     "execution_count": 12,
     "metadata": {},
     "output_type": "execute_result"
    }
   ],
   "source": [
    "cv2.startWindowThread()\n",
    "cv2.namedWindow(\"preview\")\n",
    "cv2.imshow(\"preview\", im_test)\n",
    "cv2.waitKey(0)"
   ]
  },
  {
   "cell_type": "code",
   "execution_count": 13,
   "metadata": {
    "collapsed": false
   },
   "outputs": [
    {
     "data": {
      "text/plain": [
       "(113L, 125L, 3L)"
      ]
     },
     "execution_count": 13,
     "metadata": {},
     "output_type": "execute_result"
    }
   ],
   "source": [
    "im_test.shape"
   ]
  },
  {
   "cell_type": "code",
   "execution_count": 15,
   "metadata": {
    "collapsed": false
   },
   "outputs": [],
   "source": [
    "im_test_gray = cv2.cvtColor(im_test, cv2.COLOR_BGR2GRAY)"
   ]
  },
  {
   "cell_type": "code",
   "execution_count": 16,
   "metadata": {
    "collapsed": false
   },
   "outputs": [
    {
     "data": {
      "text/plain": [
       "-1"
      ]
     },
     "execution_count": 16,
     "metadata": {},
     "output_type": "execute_result"
    }
   ],
   "source": [
    "cv2.startWindowThread()\n",
    "cv2.namedWindow(\"preview\")\n",
    "cv2.imshow(\"preview\", im_test_gray)\n",
    "cv2.waitKey(0)"
   ]
  },
  {
   "cell_type": "code",
   "execution_count": 17,
   "metadata": {
    "collapsed": false
   },
   "outputs": [
    {
     "data": {
      "text/plain": [
       "(113L, 125L)"
      ]
     },
     "execution_count": 17,
     "metadata": {},
     "output_type": "execute_result"
    }
   ],
   "source": [
    "im_test_gray.shape"
   ]
  },
  {
   "cell_type": "code",
   "execution_count": 49,
   "metadata": {
    "collapsed": true
   },
   "outputs": [],
   "source": [
    "im_test_hsv = cv2.cvtColor(im_test, cv2.COLOR_BGR2HSV)"
   ]
  },
  {
   "cell_type": "code",
   "execution_count": 50,
   "metadata": {
    "collapsed": false
   },
   "outputs": [
    {
     "data": {
      "text/plain": [
       "(113L, 125L, 3L)"
      ]
     },
     "execution_count": 50,
     "metadata": {},
     "output_type": "execute_result"
    }
   ],
   "source": [
    "im_test_hsv.shape"
   ]
  },
  {
   "cell_type": "code",
   "execution_count": 51,
   "metadata": {
    "collapsed": false
   },
   "outputs": [
    {
     "data": {
      "text/plain": [
       "array([[[120, 255, 255]]], dtype=uint8)"
      ]
     },
     "execution_count": 51,
     "metadata": {},
     "output_type": "execute_result"
    }
   ],
   "source": [
    "blue = np.uint8([[[255,0,0]]])\n",
    "hsv_blue = cv2.cvtColor(blue,cv2.COLOR_BGR2HSV)\n",
    "hsv_blue"
   ]
  },
  {
   "cell_type": "code",
   "execution_count": 55,
   "metadata": {
    "collapsed": true
   },
   "outputs": [],
   "source": [
    "lower_blue = np.array([100, 100, 100])\n",
    "upper_blue = np.array([130, 255, 255])\n",
    "mask = cv2.inRange(im_test_hsv, lower_blue, upper_blue)"
   ]
  },
  {
   "cell_type": "code",
   "execution_count": 56,
   "metadata": {
    "collapsed": true
   },
   "outputs": [],
   "source": [
    "res = cv2.bitwise_and(im_test_hsv, im_test_hsv, mask=mask)"
   ]
  },
  {
   "cell_type": "code",
   "execution_count": 57,
   "metadata": {
    "collapsed": false
   },
   "outputs": [
    {
     "data": {
      "text/plain": [
       "-1"
      ]
     },
     "execution_count": 57,
     "metadata": {},
     "output_type": "execute_result"
    }
   ],
   "source": [
    "cv2.imshow('original', im_test)\n",
    "cv2.imshow('hsv', im_test_hsv)\n",
    "cv2.imshow('mask', mask)\n",
    "cv2.imshow('res', res)\n",
    "cv2.waitKey(0)"
   ]
  },
  {
   "cell_type": "code",
   "execution_count": 48,
   "metadata": {
    "collapsed": false
   },
   "outputs": [
    {
     "data": {
      "text/plain": [
       "array([[[108, 175, 130],\n",
       "        [107, 186, 133],\n",
       "        [104, 185, 127],\n",
       "        [100, 176, 113],\n",
       "        [100, 167, 107],\n",
       "        [103, 169, 118],\n",
       "        [105, 166, 120],\n",
       "        [103, 123, 104],\n",
       "        [ 95,  13, 253],\n",
       "        [110,   3, 254]],\n",
       "\n",
       "       [[107, 217, 166],\n",
       "        [106, 230, 170],\n",
       "        [104, 242, 159],\n",
       "        [102, 232, 146],\n",
       "        [103, 215, 141],\n",
       "        [105, 217, 148],\n",
       "        [106, 212, 150],\n",
       "        [105, 187, 116],\n",
       "        [ 90,  14, 255],\n",
       "        [120,   1, 255]],\n",
       "\n",
       "       [[106, 225, 154],\n",
       "        [105, 233, 163],\n",
       "        [103, 244, 159],\n",
       "        [102, 241, 145],\n",
       "        [104, 227, 144],\n",
       "        [107, 219, 163],\n",
       "        [106, 231, 160],\n",
       "        [105, 192, 134],\n",
       "        [ 90,  14, 255],\n",
       "        [ 30,   5, 255]],\n",
       "\n",
       "       [[105, 171, 119],\n",
       "        [105, 189, 127],\n",
       "        [102, 204, 129],\n",
       "        [102, 195, 124],\n",
       "        [105, 187, 128],\n",
       "        [107, 200, 149],\n",
       "        [106, 222, 153],\n",
       "        [105, 175, 141],\n",
       "        [ 93,  19, 255],\n",
       "        [ 30,  12, 255]],\n",
       "\n",
       "       [[101,  14, 255],\n",
       "        [ 90,  18, 255],\n",
       "        [ 96,  37, 255],\n",
       "        [100,  62, 176],\n",
       "        [104, 120, 104],\n",
       "        [107, 160, 126],\n",
       "        [106, 197, 136],\n",
       "        [105, 173, 124],\n",
       "        [ 90,  16, 255],\n",
       "        [ 30,  11, 255]]], dtype=uint8)"
      ]
     },
     "execution_count": 48,
     "metadata": {},
     "output_type": "execute_result"
    }
   ],
   "source": [
    "im_test_hsv[40:45,50:60]"
   ]
  },
  {
   "cell_type": "code",
   "execution_count": null,
   "metadata": {
    "collapsed": true
   },
   "outputs": [],
   "source": []
  }
 ],
 "metadata": {
  "anaconda-cloud": {},
  "kernelspec": {
   "display_name": "Python 2",
   "language": "python",
   "name": "python2"
  },
  "language_info": {
   "codemirror_mode": {
    "name": "ipython",
    "version": 2
   },
   "file_extension": ".py",
   "mimetype": "text/x-python",
   "name": "python",
   "nbconvert_exporter": "python",
   "pygments_lexer": "ipython2",
   "version": "2.7.11"
  }
 },
 "nbformat": 4,
 "nbformat_minor": 0
}
