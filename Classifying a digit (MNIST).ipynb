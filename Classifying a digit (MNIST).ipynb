{
 "cells": [
  {
   "cell_type": "code",
   "execution_count": 1,
   "metadata": {
    "collapsed": true
   },
   "outputs": [],
   "source": [
    "import numpy as np\n",
    "import pandas as pd"
   ]
  },
  {
   "cell_type": "code",
   "execution_count": 2,
   "metadata": {
    "collapsed": false
   },
   "outputs": [],
   "source": [
    "df = pd.read_csv(\"train.csv\")"
   ]
  },
  {
   "cell_type": "code",
   "execution_count": 3,
   "metadata": {
    "collapsed": false
   },
   "outputs": [
    {
     "data": {
      "text/plain": [
       "(42000, 785)"
      ]
     },
     "execution_count": 3,
     "metadata": {},
     "output_type": "execute_result"
    }
   ],
   "source": [
    "df.shape"
   ]
  },
  {
   "cell_type": "code",
   "execution_count": 5,
   "metadata": {
    "collapsed": true
   },
   "outputs": [
    {
     "data": {
      "text/plain": [
       "<bound method DataFrame.info of        label  pixel0  pixel1  pixel2  pixel3  pixel4  pixel5  pixel6  pixel7  \\\n",
       "0          1       0       0       0       0       0       0       0       0   \n",
       "1          0       0       0       0       0       0       0       0       0   \n",
       "2          1       0       0       0       0       0       0       0       0   \n",
       "3          4       0       0       0       0       0       0       0       0   \n",
       "4          0       0       0       0       0       0       0       0       0   \n",
       "5          0       0       0       0       0       0       0       0       0   \n",
       "6          7       0       0       0       0       0       0       0       0   \n",
       "7          3       0       0       0       0       0       0       0       0   \n",
       "8          5       0       0       0       0       0       0       0       0   \n",
       "9          3       0       0       0       0       0       0       0       0   \n",
       "10         8       0       0       0       0       0       0       0       0   \n",
       "11         9       0       0       0       0       0       0       0       0   \n",
       "12         1       0       0       0       0       0       0       0       0   \n",
       "13         3       0       0       0       0       0       0       0       0   \n",
       "14         3       0       0       0       0       0       0       0       0   \n",
       "15         1       0       0       0       0       0       0       0       0   \n",
       "16         2       0       0       0       0       0       0       0       0   \n",
       "17         0       0       0       0       0       0       0       0       0   \n",
       "18         7       0       0       0       0       0       0       0       0   \n",
       "19         5       0       0       0       0       0       0       0       0   \n",
       "20         8       0       0       0       0       0       0       0       0   \n",
       "21         6       0       0       0       0       0       0       0       0   \n",
       "22         2       0       0       0       0       0       0       0       0   \n",
       "23         0       0       0       0       0       0       0       0       0   \n",
       "24         2       0       0       0       0       0       0       0       0   \n",
       "25         3       0       0       0       0       0       0       0       0   \n",
       "26         6       0       0       0       0       0       0       0       0   \n",
       "27         9       0       0       0       0       0       0       0       0   \n",
       "28         9       0       0       0       0       0       0       0       0   \n",
       "29         7       0       0       0       0       0       0       0       0   \n",
       "...      ...     ...     ...     ...     ...     ...     ...     ...     ...   \n",
       "41970      2       0       0       0       0       0       0       0       0   \n",
       "41971      3       0       0       0       0       0       0       0       0   \n",
       "41972      4       0       0       0       0       0       0       0       0   \n",
       "41973      4       0       0       0       0       0       0       0       0   \n",
       "41974      3       0       0       0       0       0       0       0       0   \n",
       "41975      9       0       0       0       0       0       0       0       0   \n",
       "41976      2       0       0       0       0       0       0       0       0   \n",
       "41977      4       0       0       0       0       0       0       0       0   \n",
       "41978      4       0       0       0       0       0       0       0       0   \n",
       "41979      4       0       0       0       0       0       0       0       0   \n",
       "41980      7       0       0       0       0       0       0       0       0   \n",
       "41981      2       0       0       0       0       0       0       0       0   \n",
       "41982      8       0       0       0       0       0       0       0       0   \n",
       "41983      7       0       0       0       0       0       0       0       0   \n",
       "41984      3       0       0       0       0       0       0       0       0   \n",
       "41985      3       0       0       0       0       0       0       0       0   \n",
       "41986      0       0       0       0       0       0       0       0       0   \n",
       "41987      5       0       0       0       0       0       0       0       0   \n",
       "41988      0       0       0       0       0       0       0       0       0   \n",
       "41989      5       0       0       0       0       0       0       0       0   \n",
       "41990      3       0       0       0       0       0       0       0       0   \n",
       "41991      1       0       0       0       0       0       0       0       0   \n",
       "41992      9       0       0       0       0       0       0       0       0   \n",
       "41993      6       0       0       0       0       0       0       0       0   \n",
       "41994      4       0       0       0       0       0       0       0       0   \n",
       "41995      0       0       0       0       0       0       0       0       0   \n",
       "41996      1       0       0       0       0       0       0       0       0   \n",
       "41997      7       0       0       0       0       0       0       0       0   \n",
       "41998      6       0       0       0       0       0       0       0       0   \n",
       "41999      9       0       0       0       0       0       0       0       0   \n",
       "\n",
       "       pixel8    ...     pixel774  pixel775  pixel776  pixel777  pixel778  \\\n",
       "0           0    ...            0         0         0         0         0   \n",
       "1           0    ...            0         0         0         0         0   \n",
       "2           0    ...            0         0         0         0         0   \n",
       "3           0    ...            0         0         0         0         0   \n",
       "4           0    ...            0         0         0         0         0   \n",
       "5           0    ...            0         0         0         0         0   \n",
       "6           0    ...            0         0         0         0         0   \n",
       "7           0    ...            0         0         0         0         0   \n",
       "8           0    ...            0         0         0         0         0   \n",
       "9           0    ...            0         0         0         0         0   \n",
       "10          0    ...            0         0         0         0         0   \n",
       "11          0    ...            0         0         0         0         0   \n",
       "12          0    ...            0         0         0         0         0   \n",
       "13          0    ...            0         0         0         0         0   \n",
       "14          0    ...            0         0         0         0         0   \n",
       "15          0    ...            0         0         0         0         0   \n",
       "16          0    ...            0         0         0         0         0   \n",
       "17          0    ...            0         0         0         0         0   \n",
       "18          0    ...            0         0         0         0         0   \n",
       "19          0    ...            0         0         0         0         0   \n",
       "20          0    ...            0         0         0         0         0   \n",
       "21          0    ...            0         0         0         0         0   \n",
       "22          0    ...            0         0         0         0         0   \n",
       "23          0    ...            0         0         0         0         0   \n",
       "24          0    ...            0         0         0         0         0   \n",
       "25          0    ...            0         0         0         0         0   \n",
       "26          0    ...            0         0         0         0         0   \n",
       "27          0    ...            0         0         0         0         0   \n",
       "28          0    ...            0         0         0         0         0   \n",
       "29          0    ...            0         0         0         0         0   \n",
       "...       ...    ...          ...       ...       ...       ...       ...   \n",
       "41970       0    ...            0         0         0         0         0   \n",
       "41971       0    ...            0         0         0         0         0   \n",
       "41972       0    ...            0         0         0         0         0   \n",
       "41973       0    ...            0         0         0         0         0   \n",
       "41974       0    ...            0         0         0         0         0   \n",
       "41975       0    ...            0         0         0         0         0   \n",
       "41976       0    ...            0         0         0         0         0   \n",
       "41977       0    ...            0         0         0         0         0   \n",
       "41978       0    ...            0         0         0         0         0   \n",
       "41979       0    ...            0         0         0         0         0   \n",
       "41980       0    ...           27       253       110         0         0   \n",
       "41981       0    ...            0         0         0         0         0   \n",
       "41982       0    ...            0         0         0         0         0   \n",
       "41983       0    ...            0         0         0         0         0   \n",
       "41984       0    ...            0         0         0         0         0   \n",
       "41985       0    ...            0         0         0         0         0   \n",
       "41986       0    ...            0         0         0         0         0   \n",
       "41987       0    ...            0         0         0         0         0   \n",
       "41988       0    ...            0         0         0         0         0   \n",
       "41989       0    ...            0         0         0         0         0   \n",
       "41990       0    ...            0         0         0         0         0   \n",
       "41991       0    ...            0         0         0         0         0   \n",
       "41992       0    ...            0         0         0         0         0   \n",
       "41993       0    ...            0         0         0         0         0   \n",
       "41994       0    ...            0         0         0         0         0   \n",
       "41995       0    ...            0         0         0         0         0   \n",
       "41996       0    ...            0         0         0         0         0   \n",
       "41997       0    ...            0         0         0         0         0   \n",
       "41998       0    ...            0         0         0         0         0   \n",
       "41999       0    ...            0         0         0         0         0   \n",
       "\n",
       "       pixel779  pixel780  pixel781  pixel782  pixel783  \n",
       "0             0         0         0         0         0  \n",
       "1             0         0         0         0         0  \n",
       "2             0         0         0         0         0  \n",
       "3             0         0         0         0         0  \n",
       "4             0         0         0         0         0  \n",
       "5             0         0         0         0         0  \n",
       "6             0         0         0         0         0  \n",
       "7             0         0         0         0         0  \n",
       "8             0         0         0         0         0  \n",
       "9             0         0         0         0         0  \n",
       "10            0         0         0         0         0  \n",
       "11            0         0         0         0         0  \n",
       "12            0         0         0         0         0  \n",
       "13            0         0         0         0         0  \n",
       "14            0         0         0         0         0  \n",
       "15            0         0         0         0         0  \n",
       "16            0         0         0         0         0  \n",
       "17            0         0         0         0         0  \n",
       "18            0         0         0         0         0  \n",
       "19            0         0         0         0         0  \n",
       "20            0         0         0         0         0  \n",
       "21            0         0         0         0         0  \n",
       "22            0         0         0         0         0  \n",
       "23            0         0         0         0         0  \n",
       "24            0         0         0         0         0  \n",
       "25            0         0         0         0         0  \n",
       "26            0         0         0         0         0  \n",
       "27            0         0         0         0         0  \n",
       "28            0         0         0         0         0  \n",
       "29            0         0         0         0         0  \n",
       "...         ...       ...       ...       ...       ...  \n",
       "41970         0         0         0         0         0  \n",
       "41971         0         0         0         0         0  \n",
       "41972         0         0         0         0         0  \n",
       "41973         0         0         0         0         0  \n",
       "41974         0         0         0         0         0  \n",
       "41975         0         0         0         0         0  \n",
       "41976         0         0         0         0         0  \n",
       "41977         0         0         0         0         0  \n",
       "41978         0         0         0         0         0  \n",
       "41979         0         0         0         0         0  \n",
       "41980         0         0         0         0         0  \n",
       "41981         0         0         0         0         0  \n",
       "41982         0         0         0         0         0  \n",
       "41983         0         0         0         0         0  \n",
       "41984         0         0         0         0         0  \n",
       "41985         0         0         0         0         0  \n",
       "41986         0         0         0         0         0  \n",
       "41987         0         0         0         0         0  \n",
       "41988         0         0         0         0         0  \n",
       "41989         0         0         0         0         0  \n",
       "41990         0         0         0         0         0  \n",
       "41991         0         0         0         0         0  \n",
       "41992         0         0         0         0         0  \n",
       "41993         0         0         0         0         0  \n",
       "41994         0         0         0         0         0  \n",
       "41995         0         0         0         0         0  \n",
       "41996         0         0         0         0         0  \n",
       "41997         0         0         0         0         0  \n",
       "41998         0         0         0         0         0  \n",
       "41999         0         0         0         0         0  \n",
       "\n",
       "[42000 rows x 785 columns]>"
      ]
     },
     "execution_count": 5,
     "metadata": {},
     "output_type": "execute_result"
    }
   ],
   "source": [
    "df.info"
   ]
  },
  {
   "cell_type": "code",
   "execution_count": 6,
   "metadata": {
    "collapsed": true
   },
   "outputs": [
    {
     "data": {
      "text/html": [
       "<div>\n",
       "<table border=\"1\" class=\"dataframe\">\n",
       "  <thead>\n",
       "    <tr style=\"text-align: right;\">\n",
       "      <th></th>\n",
       "      <th>label</th>\n",
       "      <th>pixel0</th>\n",
       "      <th>pixel1</th>\n",
       "      <th>pixel2</th>\n",
       "      <th>pixel3</th>\n",
       "      <th>pixel4</th>\n",
       "      <th>pixel5</th>\n",
       "      <th>pixel6</th>\n",
       "      <th>pixel7</th>\n",
       "      <th>pixel8</th>\n",
       "      <th>...</th>\n",
       "      <th>pixel774</th>\n",
       "      <th>pixel775</th>\n",
       "      <th>pixel776</th>\n",
       "      <th>pixel777</th>\n",
       "      <th>pixel778</th>\n",
       "      <th>pixel779</th>\n",
       "      <th>pixel780</th>\n",
       "      <th>pixel781</th>\n",
       "      <th>pixel782</th>\n",
       "      <th>pixel783</th>\n",
       "    </tr>\n",
       "  </thead>\n",
       "  <tbody>\n",
       "    <tr>\n",
       "      <th>count</th>\n",
       "      <td>42000.000000</td>\n",
       "      <td>42000.0</td>\n",
       "      <td>42000.0</td>\n",
       "      <td>42000.0</td>\n",
       "      <td>42000.0</td>\n",
       "      <td>42000.0</td>\n",
       "      <td>42000.0</td>\n",
       "      <td>42000.0</td>\n",
       "      <td>42000.0</td>\n",
       "      <td>42000.0</td>\n",
       "      <td>...</td>\n",
       "      <td>42000.000000</td>\n",
       "      <td>42000.000000</td>\n",
       "      <td>42000.000000</td>\n",
       "      <td>42000.00000</td>\n",
       "      <td>42000.000000</td>\n",
       "      <td>42000.000000</td>\n",
       "      <td>42000.0</td>\n",
       "      <td>42000.0</td>\n",
       "      <td>42000.0</td>\n",
       "      <td>42000.0</td>\n",
       "    </tr>\n",
       "    <tr>\n",
       "      <th>mean</th>\n",
       "      <td>4.456643</td>\n",
       "      <td>0.0</td>\n",
       "      <td>0.0</td>\n",
       "      <td>0.0</td>\n",
       "      <td>0.0</td>\n",
       "      <td>0.0</td>\n",
       "      <td>0.0</td>\n",
       "      <td>0.0</td>\n",
       "      <td>0.0</td>\n",
       "      <td>0.0</td>\n",
       "      <td>...</td>\n",
       "      <td>0.219286</td>\n",
       "      <td>0.117095</td>\n",
       "      <td>0.059024</td>\n",
       "      <td>0.02019</td>\n",
       "      <td>0.017238</td>\n",
       "      <td>0.002857</td>\n",
       "      <td>0.0</td>\n",
       "      <td>0.0</td>\n",
       "      <td>0.0</td>\n",
       "      <td>0.0</td>\n",
       "    </tr>\n",
       "    <tr>\n",
       "      <th>std</th>\n",
       "      <td>2.887730</td>\n",
       "      <td>0.0</td>\n",
       "      <td>0.0</td>\n",
       "      <td>0.0</td>\n",
       "      <td>0.0</td>\n",
       "      <td>0.0</td>\n",
       "      <td>0.0</td>\n",
       "      <td>0.0</td>\n",
       "      <td>0.0</td>\n",
       "      <td>0.0</td>\n",
       "      <td>...</td>\n",
       "      <td>6.312890</td>\n",
       "      <td>4.633819</td>\n",
       "      <td>3.274488</td>\n",
       "      <td>1.75987</td>\n",
       "      <td>1.894498</td>\n",
       "      <td>0.414264</td>\n",
       "      <td>0.0</td>\n",
       "      <td>0.0</td>\n",
       "      <td>0.0</td>\n",
       "      <td>0.0</td>\n",
       "    </tr>\n",
       "    <tr>\n",
       "      <th>min</th>\n",
       "      <td>0.000000</td>\n",
       "      <td>0.0</td>\n",
       "      <td>0.0</td>\n",
       "      <td>0.0</td>\n",
       "      <td>0.0</td>\n",
       "      <td>0.0</td>\n",
       "      <td>0.0</td>\n",
       "      <td>0.0</td>\n",
       "      <td>0.0</td>\n",
       "      <td>0.0</td>\n",
       "      <td>...</td>\n",
       "      <td>0.000000</td>\n",
       "      <td>0.000000</td>\n",
       "      <td>0.000000</td>\n",
       "      <td>0.00000</td>\n",
       "      <td>0.000000</td>\n",
       "      <td>0.000000</td>\n",
       "      <td>0.0</td>\n",
       "      <td>0.0</td>\n",
       "      <td>0.0</td>\n",
       "      <td>0.0</td>\n",
       "    </tr>\n",
       "    <tr>\n",
       "      <th>25%</th>\n",
       "      <td>2.000000</td>\n",
       "      <td>0.0</td>\n",
       "      <td>0.0</td>\n",
       "      <td>0.0</td>\n",
       "      <td>0.0</td>\n",
       "      <td>0.0</td>\n",
       "      <td>0.0</td>\n",
       "      <td>0.0</td>\n",
       "      <td>0.0</td>\n",
       "      <td>0.0</td>\n",
       "      <td>...</td>\n",
       "      <td>0.000000</td>\n",
       "      <td>0.000000</td>\n",
       "      <td>0.000000</td>\n",
       "      <td>0.00000</td>\n",
       "      <td>0.000000</td>\n",
       "      <td>0.000000</td>\n",
       "      <td>0.0</td>\n",
       "      <td>0.0</td>\n",
       "      <td>0.0</td>\n",
       "      <td>0.0</td>\n",
       "    </tr>\n",
       "    <tr>\n",
       "      <th>50%</th>\n",
       "      <td>4.000000</td>\n",
       "      <td>0.0</td>\n",
       "      <td>0.0</td>\n",
       "      <td>0.0</td>\n",
       "      <td>0.0</td>\n",
       "      <td>0.0</td>\n",
       "      <td>0.0</td>\n",
       "      <td>0.0</td>\n",
       "      <td>0.0</td>\n",
       "      <td>0.0</td>\n",
       "      <td>...</td>\n",
       "      <td>0.000000</td>\n",
       "      <td>0.000000</td>\n",
       "      <td>0.000000</td>\n",
       "      <td>0.00000</td>\n",
       "      <td>0.000000</td>\n",
       "      <td>0.000000</td>\n",
       "      <td>0.0</td>\n",
       "      <td>0.0</td>\n",
       "      <td>0.0</td>\n",
       "      <td>0.0</td>\n",
       "    </tr>\n",
       "    <tr>\n",
       "      <th>75%</th>\n",
       "      <td>7.000000</td>\n",
       "      <td>0.0</td>\n",
       "      <td>0.0</td>\n",
       "      <td>0.0</td>\n",
       "      <td>0.0</td>\n",
       "      <td>0.0</td>\n",
       "      <td>0.0</td>\n",
       "      <td>0.0</td>\n",
       "      <td>0.0</td>\n",
       "      <td>0.0</td>\n",
       "      <td>...</td>\n",
       "      <td>0.000000</td>\n",
       "      <td>0.000000</td>\n",
       "      <td>0.000000</td>\n",
       "      <td>0.00000</td>\n",
       "      <td>0.000000</td>\n",
       "      <td>0.000000</td>\n",
       "      <td>0.0</td>\n",
       "      <td>0.0</td>\n",
       "      <td>0.0</td>\n",
       "      <td>0.0</td>\n",
       "    </tr>\n",
       "    <tr>\n",
       "      <th>max</th>\n",
       "      <td>9.000000</td>\n",
       "      <td>0.0</td>\n",
       "      <td>0.0</td>\n",
       "      <td>0.0</td>\n",
       "      <td>0.0</td>\n",
       "      <td>0.0</td>\n",
       "      <td>0.0</td>\n",
       "      <td>0.0</td>\n",
       "      <td>0.0</td>\n",
       "      <td>0.0</td>\n",
       "      <td>...</td>\n",
       "      <td>254.000000</td>\n",
       "      <td>254.000000</td>\n",
       "      <td>253.000000</td>\n",
       "      <td>253.00000</td>\n",
       "      <td>254.000000</td>\n",
       "      <td>62.000000</td>\n",
       "      <td>0.0</td>\n",
       "      <td>0.0</td>\n",
       "      <td>0.0</td>\n",
       "      <td>0.0</td>\n",
       "    </tr>\n",
       "  </tbody>\n",
       "</table>\n",
       "<p>8 rows × 785 columns</p>\n",
       "</div>"
      ],
      "text/plain": [
       "              label   pixel0   pixel1   pixel2   pixel3   pixel4   pixel5  \\\n",
       "count  42000.000000  42000.0  42000.0  42000.0  42000.0  42000.0  42000.0   \n",
       "mean       4.456643      0.0      0.0      0.0      0.0      0.0      0.0   \n",
       "std        2.887730      0.0      0.0      0.0      0.0      0.0      0.0   \n",
       "min        0.000000      0.0      0.0      0.0      0.0      0.0      0.0   \n",
       "25%        2.000000      0.0      0.0      0.0      0.0      0.0      0.0   \n",
       "50%        4.000000      0.0      0.0      0.0      0.0      0.0      0.0   \n",
       "75%        7.000000      0.0      0.0      0.0      0.0      0.0      0.0   \n",
       "max        9.000000      0.0      0.0      0.0      0.0      0.0      0.0   \n",
       "\n",
       "        pixel6   pixel7   pixel8    ...         pixel774      pixel775  \\\n",
       "count  42000.0  42000.0  42000.0    ...     42000.000000  42000.000000   \n",
       "mean       0.0      0.0      0.0    ...         0.219286      0.117095   \n",
       "std        0.0      0.0      0.0    ...         6.312890      4.633819   \n",
       "min        0.0      0.0      0.0    ...         0.000000      0.000000   \n",
       "25%        0.0      0.0      0.0    ...         0.000000      0.000000   \n",
       "50%        0.0      0.0      0.0    ...         0.000000      0.000000   \n",
       "75%        0.0      0.0      0.0    ...         0.000000      0.000000   \n",
       "max        0.0      0.0      0.0    ...       254.000000    254.000000   \n",
       "\n",
       "           pixel776     pixel777      pixel778      pixel779  pixel780  \\\n",
       "count  42000.000000  42000.00000  42000.000000  42000.000000   42000.0   \n",
       "mean       0.059024      0.02019      0.017238      0.002857       0.0   \n",
       "std        3.274488      1.75987      1.894498      0.414264       0.0   \n",
       "min        0.000000      0.00000      0.000000      0.000000       0.0   \n",
       "25%        0.000000      0.00000      0.000000      0.000000       0.0   \n",
       "50%        0.000000      0.00000      0.000000      0.000000       0.0   \n",
       "75%        0.000000      0.00000      0.000000      0.000000       0.0   \n",
       "max      253.000000    253.00000    254.000000     62.000000       0.0   \n",
       "\n",
       "       pixel781  pixel782  pixel783  \n",
       "count   42000.0   42000.0   42000.0  \n",
       "mean        0.0       0.0       0.0  \n",
       "std         0.0       0.0       0.0  \n",
       "min         0.0       0.0       0.0  \n",
       "25%         0.0       0.0       0.0  \n",
       "50%         0.0       0.0       0.0  \n",
       "75%         0.0       0.0       0.0  \n",
       "max         0.0       0.0       0.0  \n",
       "\n",
       "[8 rows x 785 columns]"
      ]
     },
     "execution_count": 6,
     "metadata": {},
     "output_type": "execute_result"
    }
   ],
   "source": [
    "df.describe()"
   ]
  },
  {
   "cell_type": "code",
   "execution_count": 4,
   "metadata": {
    "collapsed": true
   },
   "outputs": [],
   "source": [
    "from matplotlib import pylab\n",
    "%matplotlib inline"
   ]
  },
  {
   "cell_type": "code",
   "execution_count": 5,
   "metadata": {
    "collapsed": true
   },
   "outputs": [],
   "source": [
    "# from sklearn.preprocessing import StandardScaler\n",
    "# scaler = StandardScaler()\n",
    "X_train = df.ix[:,1:]\n",
    "# X_train_scaled = scaler.fit_transform(X_train)"
   ]
  },
  {
   "cell_type": "code",
   "execution_count": 9,
   "metadata": {
    "collapsed": false
   },
   "outputs": [
    {
     "data": {
      "text/plain": [
       "(42000, 784)"
      ]
     },
     "execution_count": 9,
     "metadata": {},
     "output_type": "execute_result"
    }
   ],
   "source": [
    "X_train_scaled.shape"
   ]
  },
  {
   "cell_type": "code",
   "execution_count": 10,
   "metadata": {
    "collapsed": false
   },
   "outputs": [
    {
     "data": {
      "text/plain": [
       "numpy.ndarray"
      ]
     },
     "execution_count": 10,
     "metadata": {},
     "output_type": "execute_result"
    }
   ],
   "source": [
    "type(X_train_scaled)"
   ]
  },
  {
   "cell_type": "code",
   "execution_count": 6,
   "metadata": {
    "collapsed": false,
    "scrolled": true
   },
   "outputs": [
    {
     "data": {
      "text/plain": [
       "<matplotlib.image.AxesImage at 0x12c56bd0>"
      ]
     },
     "execution_count": 6,
     "metadata": {},
     "output_type": "execute_result"
    },
    {
     "data": {
      "image/png": "[encoded data removed]",
      "text/plain": [
       "<matplotlib.figure.Figure at 0x1622bbb0>"
      ]
     },
     "metadata": {},
     "output_type": "display_data"
    }
   ],
   "source": [
    "pylab.imshow(np.reshape(X_train.ix[7,:],(28,28)), cmap='gray')"
   ]
  },
  {
   "cell_type": "code",
   "execution_count": 11,
   "metadata": {
    "collapsed": false
   },
   "outputs": [
    {
     "data": {
      "image/png": "[encoded data removed]",
      "text/plain": [
       "<matplotlib.figure.Figure at 0xd2121b0>"
      ]
     },
     "metadata": {},
     "output_type": "display_data"
    }
   ],
   "source": [
    "a = pylab.imshow(np.reshape(X_train.ix[7,:],(28,28)), cmap='gray', vmin=127, vmax=128,interpolation='nearest')"
   ]
  },
  {
   "cell_type": "code",
   "execution_count": 9,
   "metadata": {
    "collapsed": false
   },
   "outputs": [
    {
     "data": {
      "text/plain": [
       "<matplotlib.image.AxesImage at 0x17fbd8f0>"
      ]
     },
     "execution_count": 9,
     "metadata": {},
     "output_type": "execute_result"
    }
   ],
   "source": [
    "a"
   ]
  },
  {
   "cell_type": "code",
   "execution_count": 13,
   "metadata": {
    "collapsed": false
   },
   "outputs": [
    {
     "data": {
      "text/plain": [
       "<matplotlib.contour.QuadContourSet at 0x11a8bb30>"
      ]
     },
     "execution_count": 13,
     "metadata": {},
     "output_type": "execute_result"
    },
    {
     "data": {
      "image/png": "[encoded data removed]",
      "text/plain": [
       "<matplotlib.figure.Figure at 0x10b8e2d0>"
      ]
     },
     "metadata": {},
     "output_type": "display_data"
    }
   ],
   "source": [
    "pylab.contour(np.reshape(X_train.ix[7,:],(28,28)),cmap='gray', vmin=127, vmax=128)"
   ]
  },
  {
   "cell_type": "code",
   "execution_count": null,
   "metadata": {
    "collapsed": true
   },
   "outputs": [],
   "source": []
  }
 ],
 "metadata": {
  "anaconda-cloud": {},
  "kernelspec": {
   "display_name": "Python [Root]",
   "language": "python",
   "name": "Python [Root]"
  },
  "language_info": {
   "codemirror_mode": {
    "name": "ipython",
    "version": 2
   },
   "file_extension": ".py",
   "mimetype": "text/x-python",
   "name": "python",
   "nbconvert_exporter": "python",
   "pygments_lexer": "ipython2",
   "version": "2.7.11"
  }
 },
 "nbformat": 4,
 "nbformat_minor": 0
}
